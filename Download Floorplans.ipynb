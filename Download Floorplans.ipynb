{
 "cells": [
  {
   "cell_type": "code",
   "execution_count": null,
   "metadata": {},
   "outputs": [],
   "source": [
    "SEARCH_URL = \"https://floorplans.mit.edu/SearchPDF.Asp\"\n",
    "LIST_URL = \"https://floorplans.mit.edu/ListPDF.Asp?Bldg=\""
   ]
  },
  {
   "cell_type": "code",
   "execution_count": null,
   "metadata": {},
   "outputs": [],
   "source": [
    "import os  \n",
    "import sys\n",
    "from selenium import webdriver  \n",
    "from selenium.webdriver.common.keys import Keys  \n",
    "from selenium.webdriver.chrome.options import Options \n",
    "from selenium.webdriver.common.by import By\n",
    "from selenium.webdriver.support.ui import WebDriverWait\n",
    "from selenium.webdriver.support import expected_conditions as EC"
   ]
  },
  {
   "cell_type": "code",
   "execution_count": null,
   "metadata": {},
   "outputs": [],
   "source": [
    "DUO_PATH = \"/Users/georgiashay/Documents/Software/duo-cli\"\n",
    "sys.path.append(DUO_PATH)\n",
    "from duo_gen import generate_next_token"
   ]
  },
  {
   "cell_type": "code",
   "execution_count": null,
   "metadata": {},
   "outputs": [],
   "source": [
    "SCRIPT_LOCATION = os.path.abspath('')\n",
    "DATA_FOLDER = os.path.join(SCRIPT_LOCATION, 'data3/')"
   ]
  },
  {
   "cell_type": "code",
   "execution_count": null,
   "metadata": {},
   "outputs": [],
   "source": [
    "chrome_options = Options()  \n",
    "chrome_options.add_argument(\"--ignore-certificate-errors\")\n",
    "chrome_options.add_argument(\"--ignore-urlfetcher-cert-requests\")\n",
    "chrome_options.add_experimental_option(\"prefs\", {\n",
    "    \"plugins.always_open_pdf_externally\": True,\n",
    "    \"download.default_directory\" : DATA_FOLDER,\n",
    "    'profile.managed_auto_select_certificate_for_urls': ['{\"pattern\":\"https://idp.mit.edu:446\",\"filter\":{\"ISSUER\":{\"OU\":\"Client CA v1\"}}}']\n",
    "    })  \n",
    "# chrome_options.set_headless()"
   ]
  },
  {
   "cell_type": "code",
   "execution_count": null,
   "metadata": {},
   "outputs": [],
   "source": [
    "def login_to_floorplan_page(driver):\n",
    "    wait = WebDriverWait(driver, 10)\n",
    "    driver.get(SEARCH_URL)\n",
    "    \n",
    "    \n",
    "    print(\"Waiting for continue button\")\n",
    "    # Click login continue button when it appears\n",
    "    wait.until(EC.element_to_be_clickable((By.ID, \"Select\"))).click()\n",
    "    \n",
    "    print(\"Wait for certificate button\")\n",
    "    # Click login by certificate button when it appears\n",
    "    wait.until(EC.element_to_be_clickable((By.NAME, \"login_certificate\"))).click()\n",
    "\n",
    "    # Jump into iframe for entering passcode\n",
    "    wait.until(EC.frame_to_be_available_and_switch_to_it((By.ID, 'duo_iframe')))\n",
    "    \n",
    "    print(\"Entering passcode\")\n",
    "    # Choose passcode duo authentication method\n",
    "    passcode_button = driver.find_element_by_id(\"passcode\")\n",
    "    passcode_button.click()\n",
    "    \n",
    "    # Get passcode input\n",
    "    passcode_input = driver.find_element_by_name(\"passcode\")\n",
    "    \n",
    "    # Generate next passcode and input it\n",
    "    next_password = generate_next_token()\n",
    "    passcode_input.send_keys(next_password)\n",
    "    \n",
    "    # Submit the passcode to duo\n",
    "    passcode_button.click()\n",
    "    \n",
    "    print(\"Waiting for building\")\n",
    "    # Wait until logged in\n",
    "    wait.until(EC.visibility_of_element_located((By.NAME, \"Bldg\")))\n",
    "    \n",
    "    return driver"
   ]
  },
  {
   "cell_type": "code",
   "execution_count": null,
   "metadata": {},
   "outputs": [],
   "source": [
    "driver = webdriver.Chrome(options=chrome_options)  "
   ]
  },
  {
   "cell_type": "code",
   "execution_count": null,
   "metadata": {},
   "outputs": [],
   "source": [
    "login_to_floorplan_page(driver)"
   ]
  },
  {
   "cell_type": "code",
   "execution_count": null,
   "metadata": {},
   "outputs": [],
   "source": [
    "def get_building_list(driver):\n",
    "    building_select = driver.find_element_by_name(\"Bldg\")\n",
    "    building_options = building_select.find_elements_by_tag_name(\"option\")\n",
    "    building_names = [building_option.get_attribute(\"value\") for building_option in building_options]\n",
    "    return building_names"
   ]
  },
  {
   "cell_type": "code",
   "execution_count": null,
   "metadata": {},
   "outputs": [],
   "source": [
    "building_names = get_building_list(driver)"
   ]
  },
  {
   "cell_type": "code",
   "execution_count": null,
   "metadata": {},
   "outputs": [],
   "source": [
    "building_names"
   ]
  },
  {
   "cell_type": "code",
   "execution_count": null,
   "metadata": {},
   "outputs": [],
   "source": [
    "def download_all_floorplans(driver):\n",
    "    wait = WebDriverWait(driver, 10)\n",
    "    building_names = get_building_list(driver)\n",
    "    \n",
    "    for building_name in building_names:\n",
    "        driver.get(LIST_URL + building_name)\n",
    "        \n",
    "        wait.until(EC.visibility_of_element_located((By.ID, 'maincontent')))\n",
    "        \n",
    "        floor_links = driver.find_elements_by_xpath('//a[contains(@href,\"/pdfs/\")]')\n",
    "        for floor_link in floor_links:\n",
    "            floor_link.click()\n",
    "        "
   ]
  },
  {
   "cell_type": "code",
   "execution_count": null,
   "metadata": {},
   "outputs": [],
   "source": [
    "def reorganize_floorplans():\n",
    "    buildings = {}\n",
    "    for filename in os.listdir(DATA_FOLDER):\n",
    "        if filename.endswith(\".pdf\"):\n",
    "            base_filename = os.path.splitext(filename)[0]\n",
    "            building, floor = base_filename.split('_')\n",
    "            if building in buildings:\n",
    "                buildings[building].add(filename)\n",
    "            else:\n",
    "                buildings[building] = {filename}\n",
    "    for building in buildings:\n",
    "        building_folder = os.path.join(DATA_FOLDER, building+'/')\n",
    "        os.mkdir(building_folder)\n",
    "        for file in buildings[building]:\n",
    "            current_path = os.path.join(DATA_FOLDER, file)\n",
    "            new_path = os.path.join(building_folder, file)\n",
    "            os.rename(current_path, new_path)"
   ]
  },
  {
   "cell_type": "code",
   "execution_count": null,
   "metadata": {},
   "outputs": [],
   "source": [
    "reorganize_floorplans()"
   ]
  },
  {
   "cell_type": "code",
   "execution_count": 83,
   "metadata": {},
   "outputs": [],
   "source": [
    "import os  \n",
    "import sys\n",
    "from selenium import webdriver  \n",
    "from selenium.webdriver.common.keys import Keys  \n",
    "from selenium.webdriver.chrome.options import Options \n",
    "from selenium.webdriver.common.by import By\n",
    "from selenium.webdriver.support.ui import WebDriverWait\n",
    "from selenium.webdriver.support import expected_conditions as EC\n",
    "from selenium.common.exceptions import TimeoutException\n",
    "from login_with_duo import login_to_page"
   ]
  },
  {
   "cell_type": "code",
   "execution_count": 2,
   "metadata": {},
   "outputs": [],
   "source": [
    "from login_with_duo import login_to_page"
   ]
  },
  {
   "cell_type": "code",
   "execution_count": 3,
   "metadata": {},
   "outputs": [],
   "source": [
    "SCRIPT_LOCATION = os.path.abspath('')\n",
    "DATA_FOLDER = os.path.join(SCRIPT_LOCATION, 'rooms/')"
   ]
  },
  {
   "cell_type": "code",
   "execution_count": 39,
   "metadata": {},
   "outputs": [],
   "source": [
    "chrome_options = Options()  \n",
    "chrome_options.add_argument(\"--ignore-certificate-errors\")\n",
    "chrome_options.add_argument(\"--ignore-urlfetcher-cert-requests\")\n",
    "chrome_options.add_experimental_option(\"prefs\", {\n",
    "    \"plugins.always_open_pdf_externally\": True,\n",
    "    \"download.default_directory\" : DATA_FOLDER,\n",
    "    'profile.managed_auto_select_certificate_for_urls': ['{\"pattern\":\"https://idp.mit.edu:446\",\"filter\":{\"ISSUER\":{\"OU\":\"Client CA v1\"}}}']\n",
    "    })  "
   ]
  },
  {
   "cell_type": "code",
   "execution_count": 40,
   "metadata": {},
   "outputs": [],
   "source": [
    "LIST_URL=\"https://floorplans.mit.edu/cgi-bin-db-mit/wdbmitscript.asp?Report=ibrl&Item=MIT\"\n",
    "HOME_URL=\"https://floorplans.mit.edu/mit-room.html\"\n",
    "ROOM_URL=\"https://floorplans.mit.edu/cgi-bin-db-mit/wdbmitscript.asp?report=brl&item=\""
   ]
  },
  {
   "cell_type": "code",
   "execution_count": 41,
   "metadata": {},
   "outputs": [],
   "source": [
    "room_summary_condition = EC.visibility_of_element_located((By.TAG_NAME, \"menu\"))\n",
    "home_page_condition = EC.visibility_of_element_located((By.CLASS_NAME, \"paddingLogo\"))"
   ]
  },
  {
   "cell_type": "code",
   "execution_count": 74,
   "metadata": {},
   "outputs": [],
   "source": [
    "def get_building_list(driver):\n",
    "    menu = driver.find_element_by_tag_name(\"menu\")\n",
    "    building_selects = menu.find_elements_by_tag_name(\"a\")\n",
    "    building_names = [building_select.get_attribute(\"text\").strip() for building_select in building_selects]\n",
    "    return building_names"
   ]
  },
  {
   "cell_type": "code",
   "execution_count": 75,
   "metadata": {},
   "outputs": [],
   "source": [
    "def get_room_use_texts(driver):\n",
    "    original_url = driver.current_url\n",
    "    \n",
    "    wait = WebDriverWait(driver, 3)\n",
    "    building_names = get_building_list(driver)\n",
    "    \n",
    "    for building_name in building_names:\n",
    "        driver.get(ROOM_URL + building_name)\n",
    "        \n",
    "        try:\n",
    "            wait.until(EC.visibility_of_element_located((By.TAG_NAME, 'pre')))\n",
    "        except TimeoutException:\n",
    "            print(\"Could not get information for \" + building_name)\n",
    "            continue\n",
    "        \n",
    "        text_tag = driver.find_element_by_tag_name(\"pre\")\n",
    "        text = text_tag.text\n",
    "        \n",
    "        with open(os.path.join(DATA_FOLDER, building_name + '.txt'), 'w+') as f:\n",
    "            f.write(text)\n",
    "    \n",
    "    driver.get(original_url)\n",
    "    "
   ]
  },
  {
   "cell_type": "code",
   "execution_count": 86,
   "metadata": {},
   "outputs": [],
   "source": [
    "driver = webdriver.Chrome(options=chrome_options)  "
   ]
  },
  {
   "cell_type": "code",
   "execution_count": 87,
   "metadata": {},
   "outputs": [],
   "source": [
    "login_to_page(driver, HOME_URL, home_page_condition)"
   ]
  },
  {
   "cell_type": "code",
   "execution_count": 88,
   "metadata": {},
   "outputs": [
    {
     "data": {
      "text/plain": [
       "<selenium.webdriver.remote.webelement.WebElement (session=\"747a7c207308709f1b5b86430ad22528\", element=\"079f31eb-7053-4c86-87f3-ac041754e70c\")>"
      ]
     },
     "execution_count": 88,
     "metadata": {},
     "output_type": "execute_result"
    }
   ],
   "source": [
    "driver.get(LIST_URL)\n",
    "wait = WebDriverWait(driver, 10)\n",
    "wait.until(room_summary_condition)"
   ]
  },
  {
   "cell_type": "code",
   "execution_count": 89,
   "metadata": {},
   "outputs": [
    {
     "name": "stdout",
     "output_type": "stream",
     "text": [
      "Could not get information for 42C\n"
     ]
    }
   ],
   "source": [
    "get_room_use_texts(driver)"
   ]
  },
  {
   "cell_type": "code",
   "execution_count": null,
   "metadata": {},
   "outputs": [],
   "source": []
  }
 ],
 "metadata": {
  "kernelspec": {
   "display_name": "Python 3",
   "language": "python",
   "name": "python3"
  },
  "language_info": {
   "codemirror_mode": {
    "name": "ipython",
    "version": 3
   },
   "file_extension": ".py",
   "mimetype": "text/x-python",
   "name": "python",
   "nbconvert_exporter": "python",
   "pygments_lexer": "ipython3",
   "version": "3.7.4"
  }
 },
 "nbformat": 4,
 "nbformat_minor": 2
}

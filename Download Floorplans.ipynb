{
 "cells": [
  {
   "cell_type": "code",
   "execution_count": 1,
   "metadata": {},
   "outputs": [],
   "source": [
    "SEARCH_URL = \"https://floorplans.mit.edu/SearchPDF.Asp\"\n",
    "LIST_URL = \"https://floorplans.mit.edu/ListPDF.Asp?Bldg=\""
   ]
  },
  {
   "cell_type": "code",
   "execution_count": 34,
   "metadata": {},
   "outputs": [],
   "source": [
    "import os  \n",
    "import sys\n",
    "from selenium import webdriver  \n",
    "from selenium.webdriver.common.keys import Keys  \n",
    "from selenium.webdriver.chrome.options import Options \n",
    "from selenium.webdriver.common.by import By\n",
    "from selenium.webdriver.support.ui import WebDriverWait\n",
    "from selenium.webdriver.support import expected_conditions as EC"
   ]
  },
  {
   "cell_type": "code",
   "execution_count": 35,
   "metadata": {},
   "outputs": [],
   "source": [
    "DUO_PATH = \"/Users/georgiashay/Documents/Software/duo-cli\"\n",
    "sys.path.append(DUO_PATH)\n",
    "from duo_gen import generate_next_token"
   ]
  },
  {
   "cell_type": "code",
   "execution_count": 141,
   "metadata": {},
   "outputs": [],
   "source": [
    "SCRIPT_LOCATION = os.path.abspath('')\n",
    "DATA_FOLDER = os.path.join(SCRIPT_LOCATION, 'data3/')"
   ]
  },
  {
   "cell_type": "code",
   "execution_count": 153,
   "metadata": {},
   "outputs": [
    {
     "name": "stderr",
     "output_type": "stream",
     "text": [
      "/anaconda3/lib/python3.7/site-packages/ipykernel_launcher.py:10: DeprecationWarning: use setter for headless property instead of set_headless\n",
      "  # Remove the CWD from sys.path while we load stuff.\n"
     ]
    }
   ],
   "source": [
    "chrome_options = Options()  \n",
    "chrome_options.add_argument(\"--ignore-certificate-errors\")\n",
    "chrome_options.add_argument(\"--ignore-urlfetcher-cert-requests\")\n",
    "chrome_options.add_experimental_option(\"prefs\", {\n",
    "    \"plugins.always_open_pdf_externally\": True,\n",
    "    \"download.default_directory\" : DATA_FOLDER,\n",
    "    'profile.managed_auto_select_certificate_for_urls': ['{\"pattern\":\"https://idp.mit.edu:446\",\"filter\":{\"ISSUER\":{\"OU\":\"Client CA v1\"}}}']\n",
    "    })  \n",
    "chrome_options.set_headless()"
   ]
  },
  {
   "cell_type": "code",
   "execution_count": 157,
   "metadata": {},
   "outputs": [],
   "source": [
    "def login_to_floorplan_page(driver):\n",
    "    wait = WebDriverWait(driver, 10)\n",
    "    driver.get(SEARCH_URL)\n",
    "    \n",
    "    print(\"Waiting for continue button\")\n",
    "    # Click login continue button when it appears\n",
    "    wait.until(EC.element_to_be_clickable((By.ID, \"Select\"))).click()\n",
    "    \n",
    "    print(\"Wait for certificate button\")\n",
    "    # Click login by certificate button when it appears\n",
    "    wait.until(EC.element_to_be_clickable((By.NAME, \"login_certificate\"))).click()\n",
    "\n",
    "    # Jump into iframe for entering passcode\n",
    "    wait.until(EC.frame_to_be_available_and_switch_to_it((By.ID, 'duo_iframe')))\n",
    "    \n",
    "    print(\"Entering passcode\")\n",
    "    # Choose passcode duo authentication method\n",
    "    passcode_button = driver.find_element_by_id(\"passcode\")\n",
    "    passcode_button.click()\n",
    "    \n",
    "    # Get passcode input\n",
    "    passcode_input = driver.find_element_by_name(\"passcode\")\n",
    "    \n",
    "    # Generate next passcode and input it\n",
    "    next_password = generate_next_token()\n",
    "    passcode_input.send_keys(next_password)\n",
    "    \n",
    "    # Submit the passcode to duo\n",
    "    passcode_button.click()\n",
    "    \n",
    "    print(\"Waiting for building\")\n",
    "    # Wait until logged in\n",
    "    wait.until(EC.visibility_of_element_located((By.NAME, \"Bldg\")))\n",
    "    \n",
    "    return driver"
   ]
  },
  {
   "cell_type": "code",
   "execution_count": 158,
   "metadata": {},
   "outputs": [],
   "source": [
    "driver = webdriver.Chrome(options=chrome_options)  "
   ]
  },
  {
   "cell_type": "code",
   "execution_count": 159,
   "metadata": {},
   "outputs": [
    {
     "name": "stdout",
     "output_type": "stream",
     "text": [
      "Waiting for continue button\n",
      "Wait for certificate button\n"
     ]
    },
    {
     "ename": "KeyboardInterrupt",
     "evalue": "",
     "output_type": "error",
     "traceback": [
      "\u001b[0;31m---------------------------------------------------------------------------\u001b[0m",
      "\u001b[0;31mKeyboardInterrupt\u001b[0m                         Traceback (most recent call last)",
      "\u001b[0;32m<ipython-input-159-8d57baaf56f9>\u001b[0m in \u001b[0;36m<module>\u001b[0;34m\u001b[0m\n\u001b[0;32m----> 1\u001b[0;31m \u001b[0mlogin_to_floorplan_page\u001b[0m\u001b[0;34m(\u001b[0m\u001b[0mdriver\u001b[0m\u001b[0;34m)\u001b[0m\u001b[0;34m\u001b[0m\u001b[0;34m\u001b[0m\u001b[0m\n\u001b[0m",
      "\u001b[0;32m<ipython-input-157-ffc3bf9b7a44>\u001b[0m in \u001b[0;36mlogin_to_floorplan_page\u001b[0;34m(driver)\u001b[0m\n\u001b[1;32m     12\u001b[0m \u001b[0;34m\u001b[0m\u001b[0m\n\u001b[1;32m     13\u001b[0m     \u001b[0;31m# Jump into iframe for entering passcode\u001b[0m\u001b[0;34m\u001b[0m\u001b[0;34m\u001b[0m\u001b[0;34m\u001b[0m\u001b[0m\n\u001b[0;32m---> 14\u001b[0;31m     \u001b[0mwait\u001b[0m\u001b[0;34m.\u001b[0m\u001b[0muntil\u001b[0m\u001b[0;34m(\u001b[0m\u001b[0mEC\u001b[0m\u001b[0;34m.\u001b[0m\u001b[0mframe_to_be_available_and_switch_to_it\u001b[0m\u001b[0;34m(\u001b[0m\u001b[0;34m(\u001b[0m\u001b[0mBy\u001b[0m\u001b[0;34m.\u001b[0m\u001b[0mID\u001b[0m\u001b[0;34m,\u001b[0m \u001b[0;34m'duo_iframe'\u001b[0m\u001b[0;34m)\u001b[0m\u001b[0;34m)\u001b[0m\u001b[0;34m)\u001b[0m\u001b[0;34m\u001b[0m\u001b[0;34m\u001b[0m\u001b[0m\n\u001b[0m\u001b[1;32m     15\u001b[0m \u001b[0;34m\u001b[0m\u001b[0m\n\u001b[1;32m     16\u001b[0m     \u001b[0mprint\u001b[0m\u001b[0;34m(\u001b[0m\u001b[0;34m\"Entering passcode\"\u001b[0m\u001b[0;34m)\u001b[0m\u001b[0;34m\u001b[0m\u001b[0;34m\u001b[0m\u001b[0m\n",
      "\u001b[0;32m/anaconda3/lib/python3.7/site-packages/selenium/webdriver/support/wait.py\u001b[0m in \u001b[0;36muntil\u001b[0;34m(self, method, message)\u001b[0m\n\u001b[1;32m     75\u001b[0m                 \u001b[0mscreen\u001b[0m \u001b[0;34m=\u001b[0m \u001b[0mgetattr\u001b[0m\u001b[0;34m(\u001b[0m\u001b[0mexc\u001b[0m\u001b[0;34m,\u001b[0m \u001b[0;34m'screen'\u001b[0m\u001b[0;34m,\u001b[0m \u001b[0;32mNone\u001b[0m\u001b[0;34m)\u001b[0m\u001b[0;34m\u001b[0m\u001b[0;34m\u001b[0m\u001b[0m\n\u001b[1;32m     76\u001b[0m                 \u001b[0mstacktrace\u001b[0m \u001b[0;34m=\u001b[0m \u001b[0mgetattr\u001b[0m\u001b[0;34m(\u001b[0m\u001b[0mexc\u001b[0m\u001b[0;34m,\u001b[0m \u001b[0;34m'stacktrace'\u001b[0m\u001b[0;34m,\u001b[0m \u001b[0;32mNone\u001b[0m\u001b[0;34m)\u001b[0m\u001b[0;34m\u001b[0m\u001b[0;34m\u001b[0m\u001b[0m\n\u001b[0;32m---> 77\u001b[0;31m             \u001b[0mtime\u001b[0m\u001b[0;34m.\u001b[0m\u001b[0msleep\u001b[0m\u001b[0;34m(\u001b[0m\u001b[0mself\u001b[0m\u001b[0;34m.\u001b[0m\u001b[0m_poll\u001b[0m\u001b[0;34m)\u001b[0m\u001b[0;34m\u001b[0m\u001b[0;34m\u001b[0m\u001b[0m\n\u001b[0m\u001b[1;32m     78\u001b[0m             \u001b[0;32mif\u001b[0m \u001b[0mtime\u001b[0m\u001b[0;34m.\u001b[0m\u001b[0mtime\u001b[0m\u001b[0;34m(\u001b[0m\u001b[0;34m)\u001b[0m \u001b[0;34m>\u001b[0m \u001b[0mend_time\u001b[0m\u001b[0;34m:\u001b[0m\u001b[0;34m\u001b[0m\u001b[0;34m\u001b[0m\u001b[0m\n\u001b[1;32m     79\u001b[0m                 \u001b[0;32mbreak\u001b[0m\u001b[0;34m\u001b[0m\u001b[0;34m\u001b[0m\u001b[0m\n",
      "\u001b[0;31mKeyboardInterrupt\u001b[0m: "
     ]
    }
   ],
   "source": [
    "login_to_floorplan_page(driver)"
   ]
  },
  {
   "cell_type": "code",
   "execution_count": 119,
   "metadata": {},
   "outputs": [],
   "source": [
    "def get_building_list(driver):\n",
    "    building_select = driver.find_element_by_name(\"Bldg\")\n",
    "    building_options = building_select.find_elements_by_tag_name(\"option\")\n",
    "    building_names = [building_option.get_attribute(\"value\") for building_option in building_options]\n",
    "    return building_names"
   ]
  },
  {
   "cell_type": "code",
   "execution_count": 120,
   "metadata": {},
   "outputs": [],
   "source": [
    "building_names = get_building_list(driver)"
   ]
  },
  {
   "cell_type": "code",
   "execution_count": 121,
   "metadata": {},
   "outputs": [],
   "source": [
    "def download_all_floorplans(driver):\n",
    "    wait = WebDriverWait(driver, 10)\n",
    "    building_names = get_building_list(driver)\n",
    "    \n",
    "    for building_name in building_names:\n",
    "        driver.get(LIST_URL + building_name)\n",
    "        \n",
    "        wait.until(EC.visibility_of_element_located((By.ID, 'maincontent')))\n",
    "        \n",
    "        floor_links = driver.find_elements_by_xpath('//a[contains(@href,\"/pdfs/\")]')\n",
    "        for floor_link in floor_links:\n",
    "            floor_link.click()\n",
    "        "
   ]
  },
  {
   "cell_type": "code",
   "execution_count": 139,
   "metadata": {},
   "outputs": [],
   "source": [
    "def reorganize_floorplans():\n",
    "    buildings = {}\n",
    "    for filename in os.listdir(DATA_FOLDER):\n",
    "        if filename.endswith(\".pdf\"):\n",
    "            base_filename = os.path.splitext(filename)[0]\n",
    "            building, floor = base_filename.split('_')\n",
    "            if building in buildings:\n",
    "                buildings[building].add(filename)\n",
    "            else:\n",
    "                buildings[building] = {filename}\n",
    "    for building in buildings:\n",
    "        building_folder = os.path.join(DATA_FOLDER, building+'/')\n",
    "        os.mkdir(building_folder)\n",
    "        for file in buildings[building]:\n",
    "            current_path = os.path.join(DATA_FOLDER, file)\n",
    "            new_path = os.path.join(building_folder, file)\n",
    "            os.rename(current_path, new_path)"
   ]
  },
  {
   "cell_type": "code",
   "execution_count": 140,
   "metadata": {},
   "outputs": [],
   "source": [
    "reorganize_floorplans()"
   ]
  },
  {
   "cell_type": "code",
   "execution_count": null,
   "metadata": {},
   "outputs": [],
   "source": []
  }
 ],
 "metadata": {
  "kernelspec": {
   "display_name": "Python 3",
   "language": "python",
   "name": "python3"
  },
  "language_info": {
   "codemirror_mode": {
    "name": "ipython",
    "version": 3
   },
   "file_extension": ".py",
   "mimetype": "text/x-python",
   "name": "python",
   "nbconvert_exporter": "python",
   "pygments_lexer": "ipython3",
   "version": "3.7.3"
  }
 },
 "nbformat": 4,
 "nbformat_minor": 2
}

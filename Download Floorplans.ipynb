{
 "cells": [
  {
   "cell_type": "code",
   "execution_count": 179,
   "metadata": {},
   "outputs": [],
   "source": [
    "SEARCH_URL = \"https://floorplans.mit.edu/SearchPDF.Asp\"\n",
    "LIST_URL = \"https://floorplans.mit.edu/ListPDF.Asp?Bldg=\""
   ]
  },
  {
   "cell_type": "code",
   "execution_count": 180,
   "metadata": {},
   "outputs": [],
   "source": [
    "import os  \n",
    "from selenium import webdriver  \n",
    "from selenium.webdriver.common.keys import Keys  \n",
    "from selenium.webdriver.chrome.options import Options "
   ]
  },
  {
   "cell_type": "code",
   "execution_count": 181,
   "metadata": {},
   "outputs": [],
   "source": [
    "chrome_options = Options()  \n",
    "chrome_options.add_argument(\"--ignore-certificate-errors\")\n",
    "chrome_options.add_argument(\"--ignore-urlfetcher-cert-requests\")\n",
    "chrome_options.add_experimental_option(\"prefs\", {\n",
    "    \"plugins.always_open_pdf_externally\": True,\n",
    "    \"download.default_directory\" : \"/Users/georgiashay/Documents/0Projects/mit-routes/data/\",\n",
    "    })\n",
    "# chrome_options.add_argument(\"--headless\")  \n",
    "# chrome_options.binary_location = '/Applications/Google Chrome   Canary.app/Contents/MacOS/Google Chrome Canary'   "
   ]
  },
  {
   "cell_type": "code",
   "execution_count": 182,
   "metadata": {},
   "outputs": [],
   "source": [
    "driver = webdriver.Chrome(executable_path=os.path.abspath(\"chromedriver\"), options=chrome_options)  "
   ]
  },
  {
   "cell_type": "code",
   "execution_count": 183,
   "metadata": {},
   "outputs": [],
   "source": [
    "driver.get(SEARCH_URL)"
   ]
  },
  {
   "cell_type": "code",
   "execution_count": 184,
   "metadata": {},
   "outputs": [],
   "source": [
    "continue_button = driver.find_element_by_id(\"Select\")  "
   ]
  },
  {
   "cell_type": "code",
   "execution_count": 185,
   "metadata": {},
   "outputs": [],
   "source": [
    "continue_button.click()"
   ]
  },
  {
   "cell_type": "code",
   "execution_count": 186,
   "metadata": {},
   "outputs": [],
   "source": [
    "certificate_button = driver.find_element_by_name(\"login_certificate\")"
   ]
  },
  {
   "cell_type": "code",
   "execution_count": 187,
   "metadata": {},
   "outputs": [],
   "source": [
    "certificate_button.click()"
   ]
  },
  {
   "cell_type": "code",
   "execution_count": 188,
   "metadata": {},
   "outputs": [],
   "source": [
    "driver.switch_to.frame(\"duo_iframe\")"
   ]
  },
  {
   "cell_type": "code",
   "execution_count": 189,
   "metadata": {},
   "outputs": [],
   "source": [
    "passcode_button = driver.find_element_by_id(\"passcode\")\n",
    "passcode_button.click()"
   ]
  },
  {
   "cell_type": "code",
   "execution_count": 190,
   "metadata": {},
   "outputs": [],
   "source": [
    "passcode_input = driver.find_element_by_name(\"passcode\")"
   ]
  },
  {
   "cell_type": "code",
   "execution_count": 191,
   "metadata": {},
   "outputs": [],
   "source": [
    "passcode_input.send_keys(\"600013\")"
   ]
  },
  {
   "cell_type": "code",
   "execution_count": 192,
   "metadata": {},
   "outputs": [],
   "source": [
    "passcode_button.click()"
   ]
  },
  {
   "cell_type": "code",
   "execution_count": 194,
   "metadata": {},
   "outputs": [],
   "source": [
    "building_select = driver.find_element_by_name(\"Bldg\")"
   ]
  },
  {
   "cell_type": "code",
   "execution_count": 195,
   "metadata": {},
   "outputs": [],
   "source": [
    "building_options = building_select.find_elements_by_tag_name(\"option\")"
   ]
  },
  {
   "cell_type": "code",
   "execution_count": 196,
   "metadata": {},
   "outputs": [],
   "source": [
    "building_names = [building_option.get_attribute(\"value\") for building_option in building_options]"
   ]
  },
  {
   "cell_type": "code",
   "execution_count": 197,
   "metadata": {},
   "outputs": [
    {
     "data": {
      "text/plain": [
       "['1',\n",
       " '2',\n",
       " '3',\n",
       " '4',\n",
       " '5',\n",
       " '6',\n",
       " '6C',\n",
       " '7',\n",
       " '7A',\n",
       " '8',\n",
       " '9',\n",
       " '10',\n",
       " '11',\n",
       " '12',\n",
       " '13',\n",
       " '14',\n",
       " '16',\n",
       " '17',\n",
       " '18',\n",
       " '24',\n",
       " '26',\n",
       " '31',\n",
       " '32',\n",
       " '32P',\n",
       " '33',\n",
       " '34',\n",
       " '35',\n",
       " '36',\n",
       " '37',\n",
       " '38',\n",
       " '39',\n",
       " '41',\n",
       " '42C',\n",
       " '44',\n",
       " '46',\n",
       " '48',\n",
       " '50',\n",
       " '51',\n",
       " '54',\n",
       " '56',\n",
       " '57',\n",
       " '62',\n",
       " '64',\n",
       " '66',\n",
       " '68',\n",
       " '76',\n",
       " 'E2',\n",
       " 'E14',\n",
       " 'E15',\n",
       " 'E17',\n",
       " 'E18',\n",
       " 'E19',\n",
       " 'E23',\n",
       " 'E25',\n",
       " 'E40',\n",
       " 'E51',\n",
       " 'E52',\n",
       " 'E53',\n",
       " 'E55',\n",
       " 'E60',\n",
       " 'E62',\n",
       " 'E70',\n",
       " 'E90',\n",
       " 'E94',\n",
       " 'EE19',\n",
       " 'EE20',\n",
       " 'N4',\n",
       " 'N9',\n",
       " 'N10',\n",
       " 'N50',\n",
       " 'N51',\n",
       " 'N52',\n",
       " 'N57',\n",
       " 'NE103',\n",
       " 'NE123A',\n",
       " 'NE18',\n",
       " 'NE36',\n",
       " 'NE45',\n",
       " 'NE46',\n",
       " 'NE47',\n",
       " 'NE48',\n",
       " 'NE49',\n",
       " 'NE83',\n",
       " 'NW10',\n",
       " 'NW13',\n",
       " 'NW14',\n",
       " 'NW15',\n",
       " 'NW16',\n",
       " 'NW17',\n",
       " 'NW20',\n",
       " 'NW21',\n",
       " 'NW22',\n",
       " 'NW23',\n",
       " 'NW30',\n",
       " 'NW32',\n",
       " 'NW35',\n",
       " 'NW36',\n",
       " 'NW38',\n",
       " 'NW38A',\n",
       " 'NW61',\n",
       " 'NW86',\n",
       " 'NW86P',\n",
       " 'NW98',\n",
       " 'OC1',\n",
       " 'OC1A',\n",
       " 'OC6',\n",
       " 'OC100',\n",
       " 'OC11',\n",
       " 'OC12',\n",
       " 'OC19A',\n",
       " 'OC19B',\n",
       " 'OC19C',\n",
       " 'OC19D',\n",
       " 'OC19E',\n",
       " 'OC19F',\n",
       " 'OC19G',\n",
       " 'OC19H',\n",
       " 'OC19J',\n",
       " 'OC19K',\n",
       " 'OC19L',\n",
       " 'OC19M',\n",
       " 'OC19N',\n",
       " 'OC19Q',\n",
       " 'OC20',\n",
       " 'OC21',\n",
       " 'OC21A',\n",
       " 'OC21B',\n",
       " 'OC21C',\n",
       " 'OC21D',\n",
       " 'OC21E',\n",
       " 'OC21F',\n",
       " 'OC22',\n",
       " 'OC23',\n",
       " 'OC24',\n",
       " 'OC25',\n",
       " 'OC26',\n",
       " 'OC45',\n",
       " 'W1',\n",
       " 'W2',\n",
       " 'W4',\n",
       " 'W5',\n",
       " 'W7',\n",
       " 'W8',\n",
       " 'W11',\n",
       " 'W15',\n",
       " 'W16',\n",
       " 'W20',\n",
       " 'W31',\n",
       " 'W32',\n",
       " 'W33',\n",
       " 'W34',\n",
       " 'W35',\n",
       " 'W36',\n",
       " 'W41',\n",
       " 'W51',\n",
       " 'W51C',\n",
       " 'W51D',\n",
       " 'W53',\n",
       " 'W53A',\n",
       " 'W53B',\n",
       " 'W53C',\n",
       " 'W53D',\n",
       " 'W53E',\n",
       " 'W53F',\n",
       " 'W53G',\n",
       " 'W55',\n",
       " 'W59',\n",
       " 'W61',\n",
       " 'W64',\n",
       " 'W70',\n",
       " 'W71',\n",
       " 'W79',\n",
       " 'W83',\n",
       " 'W84',\n",
       " 'W85',\n",
       " 'W85ABC',\n",
       " 'W85DE',\n",
       " 'W85FG',\n",
       " 'W85HJK',\n",
       " 'W91',\n",
       " 'W92',\n",
       " 'W97',\n",
       " 'W98',\n",
       " 'WW15',\n",
       " 'WW25']"
      ]
     },
     "execution_count": 197,
     "metadata": {},
     "output_type": "execute_result"
    }
   ],
   "source": [
    "building_names"
   ]
  },
  {
   "cell_type": "code",
   "execution_count": 198,
   "metadata": {},
   "outputs": [],
   "source": [
    "building_name = building_names[0]\n",
    "driver.get(LIST_URL + building_name)"
   ]
  },
  {
   "cell_type": "code",
   "execution_count": 199,
   "metadata": {},
   "outputs": [],
   "source": [
    "floor_links = driver.find_elements_by_xpath('//a[contains(@href,\"/pdfs/\")]')"
   ]
  },
  {
   "cell_type": "code",
   "execution_count": 200,
   "metadata": {},
   "outputs": [
    {
     "data": {
      "text/plain": [
       "[<selenium.webdriver.remote.webelement.WebElement (session=\"3cf832c3ec04e926651336d1704384d1\", element=\"3096a15b-edbf-4534-9dc2-978e3b2969a3\")>,\n",
       " <selenium.webdriver.remote.webelement.WebElement (session=\"3cf832c3ec04e926651336d1704384d1\", element=\"33a20315-cee1-4a8d-9363-c5024ac42df5\")>,\n",
       " <selenium.webdriver.remote.webelement.WebElement (session=\"3cf832c3ec04e926651336d1704384d1\", element=\"c3cd2304-1892-41be-8e25-d243163f18c7\")>,\n",
       " <selenium.webdriver.remote.webelement.WebElement (session=\"3cf832c3ec04e926651336d1704384d1\", element=\"53fca5ca-3ee9-4ebd-af4a-201fd10fc287\")>,\n",
       " <selenium.webdriver.remote.webelement.WebElement (session=\"3cf832c3ec04e926651336d1704384d1\", element=\"8328eaa2-0d22-460b-b319-bd2bd12ec265\")>]"
      ]
     },
     "execution_count": 200,
     "metadata": {},
     "output_type": "execute_result"
    }
   ],
   "source": [
    "floor_links"
   ]
  },
  {
   "cell_type": "code",
   "execution_count": 201,
   "metadata": {},
   "outputs": [
    {
     "data": {
      "text/plain": [
       "'https://floorplans.mit.edu/pdfs/1_0.pdf'"
      ]
     },
     "execution_count": 201,
     "metadata": {},
     "output_type": "execute_result"
    }
   ],
   "source": [
    "floor_links[0].get_attribute('href')"
   ]
  },
  {
   "cell_type": "code",
   "execution_count": 202,
   "metadata": {},
   "outputs": [],
   "source": [
    "floor_links[0].click()"
   ]
  },
  {
   "cell_type": "code",
   "execution_count": null,
   "metadata": {},
   "outputs": [],
   "source": []
  }
 ],
 "metadata": {
  "kernelspec": {
   "display_name": "Python 3",
   "language": "python",
   "name": "python3"
  },
  "language_info": {
   "codemirror_mode": {
    "name": "ipython",
    "version": 3
   },
   "file_extension": ".py",
   "mimetype": "text/x-python",
   "name": "python",
   "nbconvert_exporter": "python",
   "pygments_lexer": "ipython3",
   "version": "3.7.3"
  }
 },
 "nbformat": 4,
 "nbformat_minor": 2
}

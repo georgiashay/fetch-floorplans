{
 "cells": [
  {
   "cell_type": "code",
   "execution_count": 1,
   "metadata": {},
   "outputs": [],
   "source": [
    "SEARCH_URL = \"https://floorplans.mit.edu/SearchPDF.Asp\"\n",
    "LIST_URL = \"https://floorplans.mit.edu/ListPDF.Asp?Bldg=\""
   ]
  },
  {
   "cell_type": "code",
   "execution_count": 34,
   "metadata": {},
   "outputs": [],
   "source": [
    "import os  \n",
    "import sys\n",
    "from selenium import webdriver  \n",
    "from selenium.webdriver.common.keys import Keys  \n",
    "from selenium.webdriver.chrome.options import Options \n",
    "from selenium.webdriver.common.by import By\n",
    "from selenium.webdriver.support.ui import WebDriverWait\n",
    "from selenium.webdriver.support import expected_conditions as EC"
   ]
  },
  {
   "cell_type": "code",
   "execution_count": 35,
   "metadata": {},
   "outputs": [],
   "source": [
    "DUO_PATH = \"/Users/georgiashay/Documents/Software/duo-cli\"\n",
    "sys.path.append(DUO_PATH)\n",
    "from duo_gen import generate_next_token"
   ]
  },
  {
   "cell_type": "code",
   "execution_count": 36,
   "metadata": {},
   "outputs": [],
   "source": [
    "chrome_options = Options()  \n",
    "chrome_options.add_argument(\"--ignore-certificate-errors\")\n",
    "chrome_options.add_argument(\"--ignore-urlfetcher-cert-requests\")\n",
    "chrome_options.add_experimental_option(\"prefs\", {\n",
    "    \"plugins.always_open_pdf_externally\": True,\n",
    "    \"download.default_directory\" : \"/Users/georgiashay/Documents/0Projects/mit-routes/data/\",\n",
    "    'profile.managed_auto_select_certificate_for_urls': ['{\"pattern\":\"https://idp.mit.edu:446\",\"filter\":{\"ISSUER\":{\"OU\":\"Client CA v1\"}}}']\n",
    "    })\n",
    "# chrome_options.add_argument(\"--headless\")  \n",
    "# chrome_options.binary_location = '/Applications/Google Chrome   Canary.app/Contents/MacOS/Google Chrome Canary'   "
   ]
  },
  {
   "cell_type": "code",
   "execution_count": 62,
   "metadata": {},
   "outputs": [],
   "source": [
    "driver = webdriver.Chrome(options=chrome_options)  "
   ]
  },
  {
   "cell_type": "code",
   "execution_count": 63,
   "metadata": {},
   "outputs": [],
   "source": [
    "def login_to_floorplan_page(driver):\n",
    "    wait = WebDriverWait(driver, 10)\n",
    "    driver.get(SEARCH_URL)\n",
    "    \n",
    "    wait.until(EC.element_to_be_clickable((By.ID, \"Select\"))).click()\n",
    "    \n",
    "    wait.until(EC.element_to_be_clickable((By.NAME, \"login_certificate\"))).click()\n",
    "\n",
    "    wait.until(EC.frame_to_be_available_and_switch_to_it((By.ID, 'duo_iframe')))\n",
    "    \n",
    "    passcode_button = driver.find_element_by_id(\"passcode\")\n",
    "    passcode_button.click()\n",
    "    \n",
    "    passcode_input = driver.find_element_by_name(\"passcode\")\n",
    "    \n",
    "    next_password = generate_next_token()\n",
    "    passcode_input.send_keys(next_password)\n",
    "    \n",
    "    passcode_button.click()\n",
    "    \n",
    "    wait.until(EC.visibility_of_element_located((By.NAME, \"Bldg\")))\n",
    "    \n",
    "    return driver"
   ]
  },
  {
   "cell_type": "code",
   "execution_count": 64,
   "metadata": {},
   "outputs": [
    {
     "data": {
      "text/plain": [
       "<selenium.webdriver.chrome.webdriver.WebDriver (session=\"8adb7ac53978841e29dc9dad7c4d7a9a\")>"
      ]
     },
     "execution_count": 64,
     "metadata": {},
     "output_type": "execute_result"
    }
   ],
   "source": [
    "login_to_floorplan_page(driver)"
   ]
  },
  {
   "cell_type": "code",
   "execution_count": null,
   "metadata": {},
   "outputs": [],
   "source": [
    "building_select = driver.find_element_by_name(\"Bldg\")"
   ]
  },
  {
   "cell_type": "code",
   "execution_count": null,
   "metadata": {},
   "outputs": [],
   "source": [
    "building_options = building_select.find_elements_by_tag_name(\"option\")"
   ]
  },
  {
   "cell_type": "code",
   "execution_count": null,
   "metadata": {},
   "outputs": [],
   "source": [
    "building_names = [building_option.get_attribute(\"value\") for building_option in building_options]"
   ]
  },
  {
   "cell_type": "code",
   "execution_count": null,
   "metadata": {},
   "outputs": [],
   "source": [
    "building_names"
   ]
  },
  {
   "cell_type": "code",
   "execution_count": null,
   "metadata": {},
   "outputs": [],
   "source": [
    "building_name = building_names[0]\n",
    "driver.get(LIST_URL + building_name)"
   ]
  },
  {
   "cell_type": "code",
   "execution_count": null,
   "metadata": {},
   "outputs": [],
   "source": [
    "floor_links = driver.find_elements_by_xpath('//a[contains(@href,\"/pdfs/\")]')"
   ]
  },
  {
   "cell_type": "code",
   "execution_count": null,
   "metadata": {},
   "outputs": [],
   "source": [
    "floor_links"
   ]
  },
  {
   "cell_type": "code",
   "execution_count": null,
   "metadata": {},
   "outputs": [],
   "source": [
    "floor_links[0].get_attribute('href')"
   ]
  },
  {
   "cell_type": "code",
   "execution_count": null,
   "metadata": {},
   "outputs": [],
   "source": [
    "floor_links[0].click()"
   ]
  },
  {
   "cell_type": "code",
   "execution_count": null,
   "metadata": {},
   "outputs": [],
   "source": []
  }
 ],
 "metadata": {
  "kernelspec": {
   "display_name": "Python 3",
   "language": "python",
   "name": "python3"
  },
  "language_info": {
   "codemirror_mode": {
    "name": "ipython",
    "version": 3
   },
   "file_extension": ".py",
   "mimetype": "text/x-python",
   "name": "python",
   "nbconvert_exporter": "python",
   "pygments_lexer": "ipython3",
   "version": "3.7.3"
  }
 },
 "nbformat": 4,
 "nbformat_minor": 2
}
